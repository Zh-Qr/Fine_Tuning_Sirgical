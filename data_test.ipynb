{
 "cells": [
  {
   "cell_type": "code",
   "execution_count": 1,
   "id": "f455ad81-1727-4e2f-b8f5-d64315c7f286",
   "metadata": {
    "tags": []
   },
   "outputs": [
    {
     "name": "stdout",
     "output_type": "stream",
     "text": [
      "done\n"
     ]
    }
   ],
   "source": [
    "import numpy as np\n",
    "import cv2\n",
    "import matplotlib.pyplot as plt\n",
    "import pickle\n",
    "\n",
    "print(\"done\")"
   ]
  },
  {
   "cell_type": "code",
   "execution_count": 2,
   "id": "aa93ca8b-e475-469e-a9fd-6d8bbf82217f",
   "metadata": {
    "tags": []
   },
   "outputs": [],
   "source": [
    "def unpickle(file):\n",
    "    with open(file, 'rb') as fo:\n",
    "        dict = pickle.load(fo, encoding='bytes')\n",
    "    return dict"
   ]
  },
  {
   "cell_type": "markdown",
   "id": "638c38b0-100b-40fb-8c10-7bbf76ec18de",
   "metadata": {},
   "source": [
    "## 数据集的加载"
   ]
  },
  {
   "cell_type": "code",
   "execution_count": 3,
   "id": "1d9e030c-26c2-4eec-894f-8cb09ed2ebef",
   "metadata": {
    "tags": []
   },
   "outputs": [
    {
     "name": "stdout",
     "output_type": "stream",
     "text": [
      "Data shape: (50000, 3072)\n",
      "Number of labels: 50000\n",
      "Example labels: [6 9 9 4 1 1 2 7 8 3]\n"
     ]
    }
   ],
   "source": [
    "train_data = []\n",
    "train_labels = []\n",
    "\n",
    "for i in range(1,6):\n",
    "    file_name = f\"autodl-tmp/cifar-10-batches-py/data_batch_{i}\"\n",
    "    batch = unpickle(file_name)\n",
    "    train_labels.extend(batch[b'labels'])\n",
    "    train_data.append(batch[b'data'])\n",
    "    \n",
    "# 将列表转换为 NumPy 数组\n",
    "train_data = np.vstack(train_data)  # 将所有批次数据垂直拼接\n",
    "train_labels = np.array(train_labels)  # 转换为 NumPy 数组\n",
    "    \n",
    "print(f'Data shape: {train_data.shape}')  # (50000, 3072)\n",
    "print(f'Number of labels: {len(train_labels)}')  # 50000\n",
    "print(f'Example labels: {train_labels[:10]}')"
   ]
  },
  {
   "cell_type": "markdown",
   "id": "3138688c-c7ba-430e-9e84-42fa8a2f19e2",
   "metadata": {},
   "source": [
    "## 测试集的加载"
   ]
  },
  {
   "cell_type": "code",
   "execution_count": 4,
   "id": "908ca257-7ef9-402a-8c38-5277fb2a5928",
   "metadata": {
    "tags": []
   },
   "outputs": [
    {
     "name": "stdout",
     "output_type": "stream",
     "text": [
      "test shape: (10000, 3072)\n",
      "Number of test labels: 10000\n",
      "Example labels: [6 9 9 4 1 1 2 7 8 3]\n"
     ]
    }
   ],
   "source": [
    "test_data = []\n",
    "test_labels = []\n",
    "\n",
    "file_name = \"autodl-tmp/cifar-10-batches-py/test_batch\"\n",
    "batch = unpickle(file_name)\n",
    "test_labels = batch[b'labels']\n",
    "test_data = batch[b'data']\n",
    "\n",
    "print(f'test shape: {test_data.shape}')  # (10000, 3072)\n",
    "print(f'Number of test labels: {len(test_labels)}')  # 10000\n",
    "print(f'Example labels: {train_labels[:10]}')"
   ]
  },
  {
   "cell_type": "markdown",
   "id": "efce9d13-6bdc-4eaa-ad36-071222d5d4f8",
   "metadata": {},
   "source": [
    "## 类型名称 "
   ]
  },
  {
   "cell_type": "code",
   "execution_count": 5,
   "id": "255c2f59-e167-4c87-83ab-aac25fe47c67",
   "metadata": {
    "tags": []
   },
   "outputs": [
    {
     "name": "stdout",
     "output_type": "stream",
     "text": [
      "Label names:\n",
      "0: airplane\n",
      "1: automobile\n",
      "2: bird\n",
      "3: cat\n",
      "4: deer\n",
      "5: dog\n",
      "6: frog\n",
      "7: horse\n",
      "8: ship\n",
      "9: truck\n"
     ]
    }
   ],
   "source": [
    "meta_data = unpickle('autodl-tmp/cifar-10-batches-py/batches.meta')\n",
    "# 打印 meta 文件中的键和值\n",
    "# print(f'Meta keys: {meta_data.keys()}')\n",
    "\n",
    "# 获取标签名称\n",
    "label_names = meta_data[b'label_names']\n",
    "\n",
    "# 打印所有类别标签名称\n",
    "print('Label names:')\n",
    "for i, name in enumerate(label_names):\n",
    "    print(f'{i}: {name.decode(\"utf-8\")}')"
   ]
  },
  {
   "cell_type": "code",
   "execution_count": 6,
   "id": "87e544b6-3402-4731-91cf-115713a23ccb",
   "metadata": {
    "tags": []
   },
   "outputs": [
    {
     "name": "stdout",
     "output_type": "stream",
     "text": [
      "dict_keys([b'batch_label', b'labels', b'data', b'filenames'])\n"
     ]
    }
   ],
   "source": [
    "print(batch.keys())"
   ]
  },
  {
   "cell_type": "markdown",
   "id": "8bd6519a-e17e-4813-9130-d79311dbe6d8",
   "metadata": {},
   "source": [
    "## 数据的处理和展示"
   ]
  },
  {
   "cell_type": "code",
   "execution_count": 12,
   "id": "e0537545-64a1-41ba-ae62-8a349aca9c63",
   "metadata": {
    "tags": []
   },
   "outputs": [
    {
     "data": {
      "image/png": "[encoded data removed]",
      "text/plain": [
       "<Figure size 800x400 with 2 Axes>"
      ]
     },
     "metadata": {},
     "output_type": "display_data"
    },
    {
     "data": {
      "image/png": "[encoded data removed]",
      "text/plain": [
       "<Figure size 800x400 with 2 Axes>"
      ]
     },
     "metadata": {},
     "output_type": "display_data"
    },
    {
     "data": {
      "image/png": "[encoded data removed]",
      "text/plain": [
       "<Figure size 800x400 with 2 Axes>"
      ]
     },
     "metadata": {},
     "output_type": "display_data"
    },
    {
     "data": {
      "image/png": "[encoded data removed]",
      "text/plain": [
       "<Figure size 800x400 with 2 Axes>"
      ]
     },
     "metadata": {},
     "output_type": "display_data"
    },
    {
     "data": {
      "image/png": "[encoded data removed]",
      "text/plain": [
       "<Figure size 800x400 with 2 Axes>"
      ]
     },
     "metadata": {},
     "output_type": "display_data"
    }
   ],
   "source": [
    "import cv2\n",
    "import matplotlib.pyplot as plt\n",
    "\n",
    "def apply_gaus_blur(image, blur_ksize=3):\n",
    "    \"\"\"应用高斯模糊\"\"\"\n",
    "    return cv2.GaussianBlur(image, (blur_ksize, blur_ksize), 0)\n",
    "\n",
    "def show_image_comparison(image_data, label, blur_ksize=3):\n",
    "    \"\"\"展示原图和模糊后的图片对比\"\"\"\n",
    "    # 将 (3072,) 转换为 (32, 32, 3)\n",
    "    img = image_data.reshape(3, 32, 32).transpose(1, 2, 0)\n",
    "    \n",
    "    # 应用高斯模糊\n",
    "    blurred_img = apply_gaus_blur(img, blur_ksize)\n",
    "\n",
    "    # 创建子图：1行2列，第1张展示原图，第2张展示模糊图\n",
    "    fig, axes = plt.subplots(1, 2, figsize=(8, 4))\n",
    "\n",
    "    # 展示原图\n",
    "    axes[0].imshow(img)\n",
    "    axes[0].set_title(f'Original (Label: {label_names[label]})')\n",
    "    axes[0].axis('off')\n",
    "\n",
    "    # 展示模糊图\n",
    "    axes[1].imshow(blurred_img)\n",
    "    axes[1].set_title(f'Blurred (ksize={blur_ksize})')\n",
    "    axes[1].axis('off')\n",
    "\n",
    "    plt.savefig(f'pic/{label_names[label]}.jpg')\n",
    "    plt.show()\n",
    "    \n",
    "\n",
    "# 显示前 5 张图片的原图与模糊后的对比\n",
    "for i in range(5):\n",
    "    show_image_comparison(train_data[i], train_labels[i])"
   ]
  },
  {
   "cell_type": "markdown",
   "id": "46f65d70-539f-4346-8276-cdf18fe72fe1",
   "metadata": {},
   "source": [
    "## ResNet-26分类CIFAR10"
   ]
  },
  {
   "cell_type": "code",
   "execution_count": 15,
   "id": "e665b6b4-f7d0-4f33-99b1-d875fe895dfd",
   "metadata": {
    "tags": []
   },
   "outputs": [],
   "source": [
    "import torch\n",
    "import torch.nn as nn\n",
    "import torch.optim as optim\n",
    "import torchvision\n",
    "import torchvision.transforms as transforms\n",
    "from torch.utils.data import DataLoader, TensorDataset, random_split\n",
    "import pandas as pd\n",
    "import os"
   ]
  },
  {
   "cell_type": "markdown",
   "id": "876e8851-5d10-4fac-9e01-30f92bcb5c12",
   "metadata": {},
   "source": [
    "## 模型建立"
   ]
  },
  {
   "cell_type": "code",
   "execution_count": 12,
   "id": "9bf407cf-62ac-4f90-8b25-f8a808ea0d86",
   "metadata": {
    "tags": []
   },
   "outputs": [],
   "source": [
    "class BasicBlock(nn.Module):\n",
    "    def __init__(self, in_channels, out_channels, stride=1):\n",
    "        super(BasicBlock, self).__init__()\n",
    "        self.conv1 = nn.Conv2d(in_channels, out_channels, kernel_size=3, stride=stride, padding=1, bias=False)\n",
    "        self.bn1 = nn.BatchNorm2d(out_channels)\n",
    "        self.relu = nn.ReLU(inplace=True)\n",
    "        self.conv2 = nn.Conv2d(out_channels, out_channels, kernel_size=3, stride=1, padding=1, bias=False)\n",
    "        self.bn2 = nn.BatchNorm2d(out_channels)\n",
    "\n",
    "        self.downsample = None\n",
    "        if stride != 1 or in_channels != out_channels:\n",
    "            self.downsample = nn.Sequential(\n",
    "                nn.Conv2d(in_channels, out_channels, kernel_size=1, stride=stride, bias=False),\n",
    "                nn.BatchNorm2d(out_channels),\n",
    "            )\n",
    "\n",
    "    def forward(self, x):\n",
    "        identity = x\n",
    "\n",
    "        out = self.conv1(x)\n",
    "        out = self.bn1(out)\n",
    "        out = self.relu(out)\n",
    "\n",
    "        out = self.conv2(out)\n",
    "        out = self.bn2(out)\n",
    "\n",
    "        if self.downsample is not None:\n",
    "            identity = self.downsample(x)\n",
    "\n",
    "        out += identity\n",
    "        out = self.relu(out)\n",
    "\n",
    "        return out\n",
    "\n",
    "class ResNet26(nn.Module):\n",
    "    def __init__(self, num_classes=10):\n",
    "        super(ResNet26, self).__init__()\n",
    "        self.conv1 = nn.Conv2d(3, 64, kernel_size=3, stride=1, padding=1, bias=False)\n",
    "        self.bn1 = nn.BatchNorm2d(64)\n",
    "        self.relu = nn.ReLU(inplace=True)\n",
    "        self.layer1 = self._make_layer(64, 64, 4, stride=1)\n",
    "        self.layer2 = self._make_layer(64, 128, 4, stride=2)\n",
    "        self.layer3 = self._make_layer(128, 256, 4, stride=2)\n",
    "        self.layer4 = self._make_layer(256, 512, 4, stride=2)\n",
    "        self.avgpool = nn.AdaptiveAvgPool2d((1, 1))\n",
    "        self.fc = nn.Linear(512, num_classes)\n",
    "\n",
    "    def _make_layer(self, in_channels, out_channels, blocks, stride):\n",
    "        layers = []\n",
    "        layers.append(BasicBlock(in_channels, out_channels, stride))\n",
    "        for _ in range(1, blocks):\n",
    "            layers.append(BasicBlock(out_channels, out_channels))\n",
    "        return nn.Sequential(*layers)\n",
    "\n",
    "    def forward(self, x):\n",
    "        x = self.conv1(x)\n",
    "        x = self.bn1(x)\n",
    "        x = self.relu(x)\n",
    "\n",
    "        x = self.layer1(x)\n",
    "        x = self.layer2(x)\n",
    "        x = self.layer3(x)\n",
    "        x = self.layer4(x)\n",
    "\n",
    "        x = self.avgpool(x)\n",
    "        x = torch.flatten(x, 1)\n",
    "        x = self.fc(x)\n",
    "\n",
    "        return x\n"
   ]
  },
  {
   "cell_type": "markdown",
   "id": "6d1b54d8-159b-4d5b-930f-0b77cbd51af9",
   "metadata": {},
   "source": [
    "## 数据加载器"
   ]
  },
  {
   "cell_type": "code",
   "execution_count": 13,
   "id": "db052c40-02cf-4ef0-849c-edbb4a55428e",
   "metadata": {
    "tags": []
   },
   "outputs": [
    {
     "name": "stdout",
     "output_type": "stream",
     "text": [
      "Image batch shape: torch.Size([128, 3, 32, 32])\n",
      "Label batch shape: torch.Size([128])\n"
     ]
    }
   ],
   "source": [
    "def load_data(root='autodl-tmp/cifar-10-batches-py'):\n",
    "    \"\"\"加载并预处理CIFAR-10训练集和测试集\"\"\"\n",
    "    # 初始化训练集\n",
    "    train_data = []\n",
    "    train_labels = []\n",
    "\n",
    "    # 加载5个训练批次\n",
    "    for i in range(1, 6):\n",
    "        batch = unpickle(f\"{root}/data_batch_{i}\")\n",
    "        train_data.append(batch[b'data'])\n",
    "        train_labels.extend(batch[b'labels'])\n",
    "\n",
    "    # 转换为NumPy数组\n",
    "    train_data = np.vstack(train_data).reshape(-1, 3, 32, 32)  # (50000, 3, 32, 32)\n",
    "    train_labels = np.array(train_labels)\n",
    "\n",
    "    # 加载测试集\n",
    "    test_batch = unpickle(f\"{root}/test_batch\")\n",
    "    test_data = test_batch[b'data'].reshape(-1, 3, 32, 32)  # (10000, 3, 32, 32)\n",
    "    test_labels = np.array(test_batch[b'labels'])\n",
    "\n",
    "    # 转换为 PyTorch 张量\n",
    "    train_data = torch.tensor(train_data, dtype=torch.float32) / 255.0\n",
    "    train_labels = torch.tensor(train_labels, dtype=torch.long)\n",
    "    test_data = torch.tensor(test_data, dtype=torch.float32) / 255.0\n",
    "    test_labels = torch.tensor(test_labels, dtype=torch.long)\n",
    "\n",
    "    return (train_data, train_labels), (test_data, test_labels)\n",
    "\n",
    "def create_dataloaders(batch_size=128, root='autodl-tmp/cifar-10-batches-py'):\n",
    "    \"\"\"创建训练和测试数据加载器\"\"\"\n",
    "    # 加载数据\n",
    "    (train_data, train_labels), (test_data, test_labels) = load_data(root)\n",
    "\n",
    "    # 封装为 TensorDataset\n",
    "    train_dataset = TensorDataset(train_data, train_labels)\n",
    "    test_dataset = TensorDataset(test_data, test_labels)\n",
    "\n",
    "    # 数据集拆分：训练集和验证集 (80% 训练, 20% 验证)\n",
    "    train_size = int(0.8 * len(train_dataset))\n",
    "    val_size = len(train_dataset) - train_size\n",
    "    train_dataset, val_dataset = random_split(train_dataset, [train_size, val_size])\n",
    "\n",
    "    # 创建 DataLoader\n",
    "    train_loader = DataLoader(train_dataset, batch_size=batch_size, shuffle=True)\n",
    "    val_loader = DataLoader(val_dataset, batch_size=batch_size, shuffle=False)\n",
    "    test_loader = DataLoader(test_dataset, batch_size=batch_size, shuffle=False)\n",
    "\n",
    "    return train_loader, val_loader, test_loader\n",
    "\n",
    "# 使用示例\n",
    "train_loader, val_loader, test_loader = create_dataloaders(batch_size=128)\n",
    "\n",
    "# 打印数据的大小\n",
    "for images, labels in train_loader:\n",
    "    print(f'Image batch shape: {images.shape}')  # e.g., (128, 3, 32, 32)\n",
    "    print(f'Label batch shape: {labels.shape}')  # e.g., (128,)\n",
    "    break"
   ]
  },
  {
   "cell_type": "markdown",
   "id": "1e214cdf-97c4-4618-a8de-5331c3b9ed47",
   "metadata": {},
   "source": [
    "## 模型训练和评估"
   ]
  },
  {
   "cell_type": "code",
   "execution_count": 16,
   "id": "f76120a0-a2fa-45f0-96e7-f23ba1a57530",
   "metadata": {
    "tags": []
   },
   "outputs": [],
   "source": [
    "device = torch.device('cuda' if torch.cuda.is_available() else 'cpu')\n",
    "model = ResNet26(num_classes=10).to(device)\n",
    "\n",
    "# 创建目录保存权重文件\n",
    "os.makedirs('checkpoints', exist_ok=True)\n",
    "\n",
    "# 定义损失函数和优化器\n",
    "criterion = nn.CrossEntropyLoss()\n",
    "optimizer = optim.SGD(model.parameters(), lr=0.1, momentum=0.9, weight_decay=5e-4)\n",
    "\n",
    "# 学习率调整策略\n",
    "scheduler = optim.lr_scheduler.StepLR(optimizer, step_size=30, gamma=0.1)\n",
    "\n",
    "# 创建目录保存权重文件和表格数据\n",
    "os.makedirs('checkpoints', exist_ok=True)\n",
    "os.makedirs('logs', exist_ok=True)\n",
    "\n",
    "def train_and_validate(model, train_loader, val_loader, criterion, optimizer, scheduler, epochs):\n",
    "    \"\"\"训练和验证模型，并保存损失和准确率变化到 CSV 文件\"\"\"\n",
    "    history = {'epoch': [], 'train_loss': [], 'val_loss': [], 'train_acc': [], 'val_acc': []}\n",
    "\n",
    "    for epoch in range(epochs):\n",
    "        model.train()\n",
    "        running_loss, correct, total = 0.0, 0, 0\n",
    "\n",
    "        # 训练循环\n",
    "        for inputs, targets in train_loader:\n",
    "            inputs, targets = inputs.to(device), targets.to(device)\n",
    "\n",
    "            optimizer.zero_grad()\n",
    "            outputs = model(inputs)\n",
    "            loss = criterion(outputs, targets)\n",
    "            loss.backward()\n",
    "            optimizer.step()\n",
    "\n",
    "            running_loss += loss.item()\n",
    "            _, predicted = outputs.max(1)\n",
    "            total += targets.size(0)\n",
    "            correct += predicted.eq(targets).sum().item()\n",
    "\n",
    "        train_loss = running_loss / len(train_loader)\n",
    "        train_acc = 100. * correct / total\n",
    "\n",
    "        # 验证循环\n",
    "        val_loss, val_acc = evaluate(model, val_loader, criterion)\n",
    "\n",
    "        # 记录每个 epoch 的结果\n",
    "        history['epoch'].append(epoch + 1)\n",
    "        history['train_loss'].append(train_loss)\n",
    "        history['val_loss'].append(val_loss)\n",
    "        history['train_acc'].append(train_acc)\n",
    "        history['val_acc'].append(val_acc)\n",
    "\n",
    "        # 打印每个 epoch 的结果\n",
    "        print(f'Epoch [{epoch+1}/{epochs}] | '\n",
    "              f'Train Loss: {train_loss:.4f}, Train Acc: {train_acc:.2f}% | '\n",
    "              f'Val Loss: {val_loss:.4f}, Val Acc: {val_acc:.2f}%')\n",
    "        # 学习率调整\n",
    "        scheduler.step()\n",
    "        \n",
    "    # 保存权重文件\n",
    "    torch.save(model.state_dict(), f'checkpoints/resnet26.pth')\n",
    "\n",
    "    # 保存损失和准确率到 CSV 文件\n",
    "    df = pd.DataFrame(history)\n",
    "    df.to_csv('logs/training_log.csv', index=False)\n",
    "    print(\"训练日志已保存至 logs/training_log.csv\")\n",
    "\n",
    "def evaluate(model, dataloader, criterion):\n",
    "    \"\"\"评估模型在验证集上的性能\"\"\"\n",
    "    model.eval()\n",
    "    running_loss, correct, total = 0.0, 0, 0\n",
    "\n",
    "    with torch.no_grad():\n",
    "        for inputs, targets in dataloader:\n",
    "            inputs, targets = inputs.to(device), targets.to(device)\n",
    "            outputs = model(inputs)\n",
    "            loss = criterion(outputs, targets)\n",
    "\n",
    "            running_loss += loss.item()\n",
    "            _, predicted = outputs.max(1)\n",
    "            total += targets.size(0)\n",
    "            correct += predicted.eq(targets).sum().item()\n",
    "\n",
    "    avg_loss = running_loss / len(dataloader)\n",
    "    accuracy = 100. * correct / total\n",
    "    return avg_loss, accuracy"
   ]
  },
  {
   "cell_type": "code",
   "execution_count": 17,
   "id": "f70117fb-4638-45ee-966a-029a2af4fd08",
   "metadata": {
    "tags": []
   },
   "outputs": [
    {
     "name": "stdout",
     "output_type": "stream",
     "text": [
      "Epoch [1/100] | Train Loss: 2.4012, Train Acc: 19.16% | Val Loss: 1.8842, Val Acc: 27.48%\n",
      "Epoch [2/100] | Train Loss: 1.7242, Train Acc: 35.50% | Val Loss: 1.6736, Val Acc: 37.86%\n",
      "Epoch [3/100] | Train Loss: 1.5153, Train Acc: 44.07% | Val Loss: 1.7568, Val Acc: 39.81%\n",
      "Epoch [4/100] | Train Loss: 1.3236, Train Acc: 51.47% | Val Loss: 1.3362, Val Acc: 51.19%\n",
      "Epoch [5/100] | Train Loss: 1.1198, Train Acc: 59.45% | Val Loss: 1.1263, Val Acc: 59.46%\n",
      "Epoch [6/100] | Train Loss: 0.9620, Train Acc: 65.87% | Val Loss: 1.0325, Val Acc: 64.00%\n",
      "Epoch [7/100] | Train Loss: 0.8372, Train Acc: 70.31% | Val Loss: 1.0551, Val Acc: 64.24%\n",
      "Epoch [8/100] | Train Loss: 0.7427, Train Acc: 73.83% | Val Loss: 1.1037, Val Acc: 62.95%\n",
      "Epoch [9/100] | Train Loss: 0.6373, Train Acc: 77.82% | Val Loss: 0.9331, Val Acc: 67.63%\n",
      "Epoch [10/100] | Train Loss: 0.5456, Train Acc: 81.08% | Val Loss: 0.8657, Val Acc: 71.08%\n",
      "Epoch [11/100] | Train Loss: 0.4821, Train Acc: 83.25% | Val Loss: 0.8202, Val Acc: 73.25%\n",
      "Epoch [12/100] | Train Loss: 0.4366, Train Acc: 84.85% | Val Loss: 0.6691, Val Acc: 77.36%\n",
      "Epoch [13/100] | Train Loss: 0.3874, Train Acc: 86.42% | Val Loss: 0.7121, Val Acc: 76.26%\n",
      "Epoch [14/100] | Train Loss: 0.3453, Train Acc: 88.08% | Val Loss: 0.8565, Val Acc: 73.14%\n",
      "Epoch [15/100] | Train Loss: 0.3152, Train Acc: 89.05% | Val Loss: 0.8564, Val Acc: 72.57%\n",
      "Epoch [16/100] | Train Loss: 0.2926, Train Acc: 89.87% | Val Loss: 1.0107, Val Acc: 70.30%\n",
      "Epoch [17/100] | Train Loss: 0.2699, Train Acc: 90.48% | Val Loss: 0.8150, Val Acc: 74.55%\n",
      "Epoch [18/100] | Train Loss: 0.2441, Train Acc: 91.44% | Val Loss: 0.8231, Val Acc: 74.93%\n",
      "Epoch [19/100] | Train Loss: 0.2418, Train Acc: 91.48% | Val Loss: 0.6978, Val Acc: 77.55%\n",
      "Epoch [20/100] | Train Loss: 0.2288, Train Acc: 92.17% | Val Loss: 0.9284, Val Acc: 73.79%\n",
      "Epoch [21/100] | Train Loss: 0.2230, Train Acc: 92.31% | Val Loss: 0.7943, Val Acc: 76.53%\n",
      "Epoch [22/100] | Train Loss: 0.2095, Train Acc: 92.78% | Val Loss: 0.8731, Val Acc: 74.84%\n",
      "Epoch [23/100] | Train Loss: 0.2044, Train Acc: 92.94% | Val Loss: 0.8478, Val Acc: 74.47%\n",
      "Epoch [24/100] | Train Loss: 0.1999, Train Acc: 93.06% | Val Loss: 0.7569, Val Acc: 77.23%\n",
      "Epoch [25/100] | Train Loss: 0.1913, Train Acc: 93.35% | Val Loss: 0.8253, Val Acc: 76.14%\n",
      "Epoch [26/100] | Train Loss: 0.1991, Train Acc: 93.11% | Val Loss: 0.7982, Val Acc: 76.74%\n",
      "Epoch [27/100] | Train Loss: 0.1788, Train Acc: 93.76% | Val Loss: 0.8636, Val Acc: 75.06%\n",
      "Epoch [28/100] | Train Loss: 0.1905, Train Acc: 93.40% | Val Loss: 0.8454, Val Acc: 75.17%\n",
      "Epoch [29/100] | Train Loss: 0.1793, Train Acc: 93.87% | Val Loss: 0.7773, Val Acc: 78.21%\n",
      "Epoch [30/100] | Train Loss: 0.1892, Train Acc: 93.55% | Val Loss: 0.7378, Val Acc: 78.38%\n",
      "Epoch [31/100] | Train Loss: 0.0485, Train Acc: 98.63% | Val Loss: 0.4902, Val Acc: 85.30%\n",
      "Epoch [32/100] | Train Loss: 0.0119, Train Acc: 99.93% | Val Loss: 0.4899, Val Acc: 85.53%\n",
      "Epoch [33/100] | Train Loss: 0.0073, Train Acc: 99.97% | Val Loss: 0.4980, Val Acc: 85.63%\n",
      "Epoch [34/100] | Train Loss: 0.0053, Train Acc: 99.99% | Val Loss: 0.5003, Val Acc: 85.84%\n",
      "Epoch [35/100] | Train Loss: 0.0045, Train Acc: 99.99% | Val Loss: 0.5013, Val Acc: 85.80%\n",
      "Epoch [36/100] | Train Loss: 0.0037, Train Acc: 100.00% | Val Loss: 0.5017, Val Acc: 85.86%\n",
      "Epoch [37/100] | Train Loss: 0.0032, Train Acc: 100.00% | Val Loss: 0.5045, Val Acc: 85.84%\n",
      "Epoch [38/100] | Train Loss: 0.0030, Train Acc: 100.00% | Val Loss: 0.5033, Val Acc: 85.94%\n",
      "Epoch [39/100] | Train Loss: 0.0027, Train Acc: 100.00% | Val Loss: 0.5034, Val Acc: 85.87%\n",
      "Epoch [40/100] | Train Loss: 0.0027, Train Acc: 100.00% | Val Loss: 0.5029, Val Acc: 85.91%\n",
      "Epoch [41/100] | Train Loss: 0.0026, Train Acc: 100.00% | Val Loss: 0.5017, Val Acc: 85.93%\n",
      "Epoch [42/100] | Train Loss: 0.0025, Train Acc: 100.00% | Val Loss: 0.4981, Val Acc: 86.00%\n",
      "Epoch [43/100] | Train Loss: 0.0025, Train Acc: 100.00% | Val Loss: 0.4989, Val Acc: 86.00%\n",
      "Epoch [44/100] | Train Loss: 0.0023, Train Acc: 100.00% | Val Loss: 0.5014, Val Acc: 85.88%\n",
      "Epoch [45/100] | Train Loss: 0.0022, Train Acc: 100.00% | Val Loss: 0.4996, Val Acc: 86.13%\n",
      "Epoch [46/100] | Train Loss: 0.0022, Train Acc: 100.00% | Val Loss: 0.4980, Val Acc: 86.01%\n",
      "Epoch [47/100] | Train Loss: 0.0022, Train Acc: 100.00% | Val Loss: 0.4971, Val Acc: 85.91%\n",
      "Epoch [48/100] | Train Loss: 0.0022, Train Acc: 100.00% | Val Loss: 0.4947, Val Acc: 86.05%\n",
      "Epoch [49/100] | Train Loss: 0.0021, Train Acc: 100.00% | Val Loss: 0.4945, Val Acc: 85.92%\n",
      "Epoch [50/100] | Train Loss: 0.0021, Train Acc: 100.00% | Val Loss: 0.4933, Val Acc: 85.99%\n",
      "Epoch [51/100] | Train Loss: 0.0021, Train Acc: 100.00% | Val Loss: 0.4925, Val Acc: 86.12%\n",
      "Epoch [52/100] | Train Loss: 0.0020, Train Acc: 100.00% | Val Loss: 0.4967, Val Acc: 86.13%\n",
      "Epoch [53/100] | Train Loss: 0.0020, Train Acc: 100.00% | Val Loss: 0.4901, Val Acc: 86.20%\n",
      "Epoch [54/100] | Train Loss: 0.0019, Train Acc: 100.00% | Val Loss: 0.4929, Val Acc: 86.08%\n",
      "Epoch [55/100] | Train Loss: 0.0019, Train Acc: 100.00% | Val Loss: 0.4903, Val Acc: 86.18%\n",
      "Epoch [56/100] | Train Loss: 0.0019, Train Acc: 100.00% | Val Loss: 0.4934, Val Acc: 86.28%\n",
      "Epoch [57/100] | Train Loss: 0.0019, Train Acc: 100.00% | Val Loss: 0.4959, Val Acc: 86.17%\n",
      "Epoch [58/100] | Train Loss: 0.0018, Train Acc: 100.00% | Val Loss: 0.4934, Val Acc: 86.23%\n",
      "Epoch [59/100] | Train Loss: 0.0018, Train Acc: 100.00% | Val Loss: 0.4932, Val Acc: 86.17%\n",
      "Epoch [60/100] | Train Loss: 0.0017, Train Acc: 100.00% | Val Loss: 0.4978, Val Acc: 86.25%\n",
      "Epoch [61/100] | Train Loss: 0.0017, Train Acc: 100.00% | Val Loss: 0.4964, Val Acc: 86.20%\n",
      "Epoch [62/100] | Train Loss: 0.0017, Train Acc: 100.00% | Val Loss: 0.4961, Val Acc: 86.19%\n",
      "Epoch [63/100] | Train Loss: 0.0017, Train Acc: 100.00% | Val Loss: 0.4994, Val Acc: 86.25%\n",
      "Epoch [64/100] | Train Loss: 0.0017, Train Acc: 100.00% | Val Loss: 0.4970, Val Acc: 86.24%\n",
      "Epoch [65/100] | Train Loss: 0.0017, Train Acc: 100.00% | Val Loss: 0.4975, Val Acc: 86.28%\n",
      "Epoch [66/100] | Train Loss: 0.0017, Train Acc: 100.00% | Val Loss: 0.4967, Val Acc: 86.14%\n",
      "Epoch [67/100] | Train Loss: 0.0017, Train Acc: 100.00% | Val Loss: 0.4989, Val Acc: 86.12%\n",
      "Epoch [68/100] | Train Loss: 0.0017, Train Acc: 100.00% | Val Loss: 0.4981, Val Acc: 86.23%\n",
      "Epoch [69/100] | Train Loss: 0.0016, Train Acc: 100.00% | Val Loss: 0.5016, Val Acc: 86.25%\n",
      "Epoch [70/100] | Train Loss: 0.0016, Train Acc: 100.00% | Val Loss: 0.5003, Val Acc: 86.16%\n",
      "Epoch [71/100] | Train Loss: 0.0017, Train Acc: 100.00% | Val Loss: 0.5003, Val Acc: 86.12%\n",
      "Epoch [72/100] | Train Loss: 0.0016, Train Acc: 100.00% | Val Loss: 0.4962, Val Acc: 86.11%\n",
      "Epoch [73/100] | Train Loss: 0.0016, Train Acc: 100.00% | Val Loss: 0.4978, Val Acc: 86.28%\n",
      "Epoch [74/100] | Train Loss: 0.0016, Train Acc: 100.00% | Val Loss: 0.4990, Val Acc: 86.32%\n",
      "Epoch [75/100] | Train Loss: 0.0016, Train Acc: 100.00% | Val Loss: 0.4992, Val Acc: 86.26%\n",
      "Epoch [76/100] | Train Loss: 0.0016, Train Acc: 100.00% | Val Loss: 0.5005, Val Acc: 86.13%\n",
      "Epoch [77/100] | Train Loss: 0.0017, Train Acc: 100.00% | Val Loss: 0.4999, Val Acc: 86.35%\n",
      "Epoch [78/100] | Train Loss: 0.0017, Train Acc: 100.00% | Val Loss: 0.5008, Val Acc: 86.16%\n",
      "Epoch [79/100] | Train Loss: 0.0016, Train Acc: 100.00% | Val Loss: 0.5009, Val Acc: 86.20%\n",
      "Epoch [80/100] | Train Loss: 0.0016, Train Acc: 100.00% | Val Loss: 0.4997, Val Acc: 86.15%\n",
      "Epoch [81/100] | Train Loss: 0.0016, Train Acc: 100.00% | Val Loss: 0.4990, Val Acc: 86.30%\n",
      "Epoch [82/100] | Train Loss: 0.0016, Train Acc: 100.00% | Val Loss: 0.5005, Val Acc: 86.35%\n",
      "Epoch [83/100] | Train Loss: 0.0016, Train Acc: 100.00% | Val Loss: 0.5024, Val Acc: 86.21%\n",
      "Epoch [84/100] | Train Loss: 0.0016, Train Acc: 100.00% | Val Loss: 0.5001, Val Acc: 86.23%\n",
      "Epoch [85/100] | Train Loss: 0.0016, Train Acc: 100.00% | Val Loss: 0.5005, Val Acc: 86.14%\n",
      "Epoch [86/100] | Train Loss: 0.0016, Train Acc: 100.00% | Val Loss: 0.5011, Val Acc: 86.16%\n",
      "Epoch [87/100] | Train Loss: 0.0016, Train Acc: 100.00% | Val Loss: 0.5051, Val Acc: 86.21%\n",
      "Epoch [88/100] | Train Loss: 0.0016, Train Acc: 100.00% | Val Loss: 0.4991, Val Acc: 86.34%\n",
      "Epoch [89/100] | Train Loss: 0.0015, Train Acc: 100.00% | Val Loss: 0.4997, Val Acc: 86.34%\n",
      "Epoch [90/100] | Train Loss: 0.0016, Train Acc: 100.00% | Val Loss: 0.5011, Val Acc: 86.39%\n",
      "Epoch [91/100] | Train Loss: 0.0016, Train Acc: 100.00% | Val Loss: 0.5066, Val Acc: 86.29%\n",
      "Epoch [92/100] | Train Loss: 0.0015, Train Acc: 100.00% | Val Loss: 0.5032, Val Acc: 86.18%\n",
      "Epoch [93/100] | Train Loss: 0.0015, Train Acc: 100.00% | Val Loss: 0.5026, Val Acc: 86.24%\n",
      "Epoch [94/100] | Train Loss: 0.0016, Train Acc: 100.00% | Val Loss: 0.5034, Val Acc: 86.17%\n",
      "Epoch [95/100] | Train Loss: 0.0016, Train Acc: 100.00% | Val Loss: 0.5068, Val Acc: 86.12%\n",
      "Epoch [96/100] | Train Loss: 0.0015, Train Acc: 100.00% | Val Loss: 0.5026, Val Acc: 86.26%\n",
      "Epoch [97/100] | Train Loss: 0.0016, Train Acc: 100.00% | Val Loss: 0.5017, Val Acc: 86.15%\n",
      "Epoch [98/100] | Train Loss: 0.0016, Train Acc: 100.00% | Val Loss: 0.5030, Val Acc: 86.27%\n",
      "Epoch [99/100] | Train Loss: 0.0016, Train Acc: 100.00% | Val Loss: 0.5043, Val Acc: 86.26%\n",
      "Epoch [100/100] | Train Loss: 0.0016, Train Acc: 100.00% | Val Loss: 0.5006, Val Acc: 86.21%\n",
      "训练日志已保存至 logs/training_log.csv\n"
     ]
    }
   ],
   "source": [
    "epoch_size = 100\n",
    "# 开始训练，并记录损失和准确率\n",
    "train_and_validate(model, train_loader, val_loader, criterion, optimizer, scheduler, epochs=epoch_size)"
   ]
  },
  {
   "cell_type": "markdown",
   "id": "a99e2001-cdb9-4b51-8212-6adf4d872504",
   "metadata": {},
   "source": [
    "## Test数据集的处理"
   ]
  },
  {
   "cell_type": "code",
   "execution_count": 18,
   "id": "79201e87-ab39-4d59-8bec-b22524c1a6af",
   "metadata": {
    "tags": []
   },
   "outputs": [],
   "source": [
    "def save_data(file_name, data):\n",
    "    \"\"\"保存数据到 pickle 文件\"\"\"\n",
    "    with open(file_name, 'wb') as f:\n",
    "        pickle.dump(data, f)\n",
    "\n",
    "def apply_blur_and_shift(image, shift=(2, 2), blur_ksize=3):\n",
    "    \"\"\"\n",
    "    对图像应用高斯模糊和偏移变换。\n",
    "    shift: (x_shift, y_shift) 偏移像素\n",
    "    blur_ksize: 高斯模糊核大小\n",
    "    \"\"\"\n",
    "    # 应用高斯模糊\n",
    "    blurred = cv2.GaussianBlur(image, (blur_ksize, blur_ksize), 0)\n",
    "\n",
    "    # 构造平移矩阵\n",
    "    M = np.float32([[1, 0, shift[0]], [0, 1, shift[1]]])\n",
    "    shifted = cv2.warpAffine(blurred, M, (32, 32))\n",
    "\n",
    "    return shifted"
   ]
  },
  {
   "cell_type": "code",
   "execution_count": 20,
   "id": "62e66a61-03d8-4fd2-b795-4813db84cc98",
   "metadata": {
    "tags": []
   },
   "outputs": [
    {
     "name": "stdout",
     "output_type": "stream",
     "text": [
      "test_raw 和 test_c 数据已成功保存。\n"
     ]
    }
   ],
   "source": [
    "# 读取原始测试数据\n",
    "test_batch = unpickle('autodl-tmp/cifar-10-batches-py/test_batch')\n",
    "\n",
    "# 拆分数据和标签\n",
    "test_data = test_batch[b'data']\n",
    "test_labels = test_batch[b'labels']\n",
    "\n",
    "# 转换形状为 (10000, 32, 32, 3)\n",
    "test_data = test_data.reshape(-1, 3, 32, 32).transpose(0, 2, 3, 1)\n",
    "\n",
    "# 计算原始数据和变换数据的数量\n",
    "total_samples = len(test_data)\n",
    "num_raw_samples = int(total_samples * 0.7)  # 70% 原始数据\n",
    "num_c_samples = total_samples - num_raw_samples  # 20% 变换数据\n",
    "\n",
    "# 随机选择原始数据的索引\n",
    "np.random.seed(42)  # 设置随机种子以确保可重复性\n",
    "raw_indices = np.random.choice(total_samples, num_raw_samples, replace=False)\n",
    "\n",
    "# 保存原始数据\n",
    "test_raw_data = test_data[raw_indices]\n",
    "test_raw_labels = [test_labels[i] for i in raw_indices]\n",
    "\n",
    "# 保存变换数据\n",
    "test_c_data = []\n",
    "test_c_labels = []\n",
    "\n",
    "for i in range(total_samples):\n",
    "    if i not in raw_indices:\n",
    "        # 对剩余的样本应用模糊和偏移\n",
    "        transformed_img = apply_blur_and_shift(test_data[i], shift=(3, 3), blur_ksize=5)\n",
    "        test_c_data.append(transformed_img)\n",
    "        test_c_labels.append(test_labels[i])\n",
    "\n",
    "# 转换回 CIFAR-10 数据格式 (N, 3, 32, 32)\n",
    "test_raw_data = np.array(test_raw_data).transpose(0, 3, 1, 2).reshape(-1, 3072)\n",
    "test_c_data = np.array(test_c_data).transpose(0, 3, 1, 2).reshape(-1, 3072)\n",
    "\n",
    "# 创建新的数据批次字典\n",
    "test_raw_batch = {b'data': test_raw_data, b'labels': test_raw_labels}\n",
    "test_c_batch = {b'data': test_c_data, b'labels': test_c_labels}\n",
    "\n",
    "# 保存为 pickle 文件\n",
    "save_data('autodl-tmp/cifar-10-batches-py/test_raw_batch.pkl', test_raw_batch)\n",
    "save_data('autodl-tmp/cifar-10-batches-py/test_c_batch.pkl', test_c_batch)\n",
    "\n",
    "print(\"test_raw 和 test_c 数据已成功保存。\")"
   ]
  },
  {
   "cell_type": "code",
   "execution_count": 24,
   "id": "f318d892-4fb4-40f3-91fc-7541cd2ee99e",
   "metadata": {
    "tags": []
   },
   "outputs": [
    {
     "name": "stdout",
     "output_type": "stream",
     "text": [
      "(7000, 3072)\n"
     ]
    }
   ],
   "source": [
    "print(test_raw_data.shape)"
   ]
  },
  {
   "cell_type": "code",
   "execution_count": null,
   "id": "744dce46-6c4b-4d21-b522-f9baabc4457c",
   "metadata": {},
   "outputs": [],
   "source": []
  }
 ],
 "metadata": {
  "kernelspec": {
   "display_name": "Python 3 (ipykernel)",
   "language": "python",
   "name": "python3"
  },
  "language_info": {
   "codemirror_mode": {
    "name": "ipython",
    "version": 3
   },
   "file_extension": ".py",
   "mimetype": "text/x-python",
   "name": "python",
   "nbconvert_exporter": "python",
   "pygments_lexer": "ipython3",
   "version": "3.8.10"
  }
 },
 "nbformat": 4,
 "nbformat_minor": 5
}
