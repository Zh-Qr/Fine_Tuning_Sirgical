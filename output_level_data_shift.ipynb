{
 "cells": [
  {
   "cell_type": "code",
   "execution_count": 3,
   "id": "80cc6b4d-9823-4d12-aa79-81213c40a616",
   "metadata": {
    "tags": []
   },
   "outputs": [
    {
     "name": "stdout",
     "output_type": "stream",
     "text": [
      "done\n"
     ]
    }
   ],
   "source": [
    "import numpy as np\n",
    "import cv2\n",
    "import matplotlib.pyplot as plt\n",
    "import pickle\n",
    "\n",
    "print(\"done\")\n",
    "\n",
    "# 读取文件\n",
    "def unpickle(file):\n",
    "    with open(file, 'rb') as fo:\n",
    "        dict = pickle.load(fo, encoding='bytes')\n",
    "    return dict\n",
    "\n",
    "#保存文件\n",
    "def save_data(file_name, data):\n",
    "    \"\"\"保存数据到 pickle 文件\"\"\"\n",
    "    with open(file_name, 'wb') as f:\n",
    "        pickle.dump(data, f)"
   ]
  },
  {
   "cell_type": "code",
   "execution_count": 4,
   "id": "7c8a36be-d155-4f42-9a15-5de83d7b829a",
   "metadata": {
    "tags": []
   },
   "outputs": [],
   "source": [
    "test_data = []\n",
    "test_labels = []\n",
    "\n",
    "file_name = \"autodl-tmp/cifar-10-batches-py/test_batch\"\n",
    "batch = unpickle(file_name)\n",
    "test_labels = batch[b'labels']\n",
    "test_data = batch[b'data']"
   ]
  },
  {
   "cell_type": "code",
   "execution_count": 5,
   "id": "f696a076-44ac-459a-b239-48162565cfaf",
   "metadata": {
    "tags": []
   },
   "outputs": [],
   "source": [
    "# 转换形状为 (10000, 32, 32, 3)\n",
    "test_data = test_data.reshape(-1, 3, 32, 32).transpose(0, 2, 3, 1)\n",
    "# 计算原始数据和变换数据的数量\n",
    "total_samples = len(test_data)\n",
    "num_raw_samples = int(total_samples * 0.1)  # 10% 原始数据,1000个用于微调\n",
    "num_c_samples = total_samples - num_raw_samples  # 90% 变换数据，9000个\n",
    "\n",
    "# 随机选择原始数据的索引\n",
    "np.random.seed(42)  # 设置随机种子以确保可重复性\n",
    "raw_indices = np.random.choice(total_samples, num_raw_samples, replace=False)"
   ]
  },
  {
   "cell_type": "code",
   "execution_count": 7,
   "id": "858888c8-f53d-400e-ad00-44d4e54d4594",
   "metadata": {
    "tags": []
   },
   "outputs": [
    {
     "name": "stdout",
     "output_type": "stream",
     "text": [
      "outlevel_test_raw 和 outlevel_test_c 数据已成功保存。\n"
     ]
    }
   ],
   "source": [
    "file_name = \"autodl-tmp/cifar-10-batches-py\"\n",
    "\n",
    "# 保存原始数据\n",
    "test_raw_data = []\n",
    "test_raw_labels = []\n",
    "\n",
    "# 保存变换数据\n",
    "test_c_data = []\n",
    "test_c_labels = []\n",
    "\n",
    "for i in range(total_samples):\n",
    "    if i not in raw_indices:\n",
    "        test_c_data.append(test_data[i])\n",
    "        test_c_labels.append(9-test_labels[i])\n",
    "    else:\n",
    "        test_raw_data.append(test_data[i])\n",
    "        test_raw_labels.append(9-test_labels[i])\n",
    "    \n",
    "# 转换回 CIFAR-10 数据格式 (N, 3, 32, 32)\n",
    "test_raw_data = np.array(test_raw_data).transpose(0, 3, 1, 2).reshape(-1, 3072)\n",
    "test_c_data = np.array(test_c_data).transpose(0, 3, 1, 2).reshape(-1, 3072)\n",
    "\n",
    "# 创建新的数据批次字典\n",
    "test_raw_batch = {b'data': test_raw_data, b'labels': test_raw_labels}\n",
    "test_c_batch = {b'data': test_c_data, b'labels': test_c_labels}\n",
    "\n",
    "# 保存为 pickle 文件\n",
    "save_data(file_name+'/outlevel_test_train_batch.pkl', test_raw_batch)\n",
    "save_data(file_name+'/outlevel_test_test_batch.pkl', test_c_batch)\n",
    "\n",
    "print(\"outlevel_test_raw 和 outlevel_test_c 数据已成功保存。\")"
   ]
  },
  {
   "cell_type": "code",
   "execution_count": null,
   "id": "77e94462-7ddc-4a8b-a5ee-3d6dba5407e1",
   "metadata": {},
   "outputs": [],
   "source": []
  }
 ],
 "metadata": {
  "kernelspec": {
   "display_name": "Python 3 (ipykernel)",
   "language": "python",
   "name": "python3"
  },
  "language_info": {
   "codemirror_mode": {
    "name": "ipython",
    "version": 3
   },
   "file_extension": ".py",
   "mimetype": "text/x-python",
   "name": "python",
   "nbconvert_exporter": "python",
   "pygments_lexer": "ipython3",
   "version": "3.8.10"
  }
 },
 "nbformat": 4,
 "nbformat_minor": 5
}
